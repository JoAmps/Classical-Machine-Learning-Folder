{
 "cells": [
  {
   "cell_type": "markdown",
   "metadata": {},
   "source": [
    "# Detect Credit Card Fraud"
   ]
  },
  {
   "cell_type": "code",
   "execution_count": 1,
   "metadata": {
    "colab": {
     "base_uri": "https://localhost:8080/"
    },
    "id": "KmOw2tZRielI",
    "outputId": "c139d3b7-da15-46be-a67c-3b052551de64"
   },
   "outputs": [
    {
     "name": "stdout",
     "output_type": "stream",
     "text": [
      "Collecting pytorch-tabnet\n",
      "  Using cached pytorch_tabnet-3.1.1-py3-none-any.whl (39 kB)\n",
      "Requirement already satisfied: numpy<2.0,>=1.17 in c:\\users\\ampad\\anaconda3\\envs\\od\\lib\\site-packages (from pytorch-tabnet) (1.19.2)\n",
      "Collecting scikit_learn>0.21\n",
      "  Downloading scikit_learn-0.24.2-cp36-cp36m-win_amd64.whl (6.8 MB)\n",
      "Requirement already satisfied: torch<2.0,>=1.2 in c:\\users\\ampad\\anaconda3\\envs\\od\\lib\\site-packages (from pytorch-tabnet) (1.7.1)\n",
      "Requirement already satisfied: scipy>1.4 in c:\\users\\ampad\\anaconda3\\envs\\od\\lib\\site-packages (from pytorch-tabnet) (1.5.2)\n",
      "Collecting tqdm<5.0,>=4.36\n",
      "  Downloading tqdm-4.61.0-py2.py3-none-any.whl (75 kB)\n",
      "Collecting joblib>=0.11\n",
      "  Using cached joblib-1.0.1-py3-none-any.whl (303 kB)\n",
      "Collecting threadpoolctl>=2.0.0\n",
      "  Using cached threadpoolctl-2.1.0-py3-none-any.whl (12 kB)\n",
      "Requirement already satisfied: typing_extensions in c:\\users\\ampad\\anaconda3\\envs\\od\\lib\\site-packages (from torch<2.0,>=1.2->pytorch-tabnet) (3.7.4.3)\n",
      "Requirement already satisfied: dataclasses in c:\\users\\ampad\\anaconda3\\envs\\od\\lib\\site-packages (from torch<2.0,>=1.2->pytorch-tabnet) (0.8)\n",
      "Installing collected packages: threadpoolctl, joblib, tqdm, scikit-learn, pytorch-tabnet\n",
      "Successfully installed joblib-1.0.1 pytorch-tabnet-3.1.1 scikit-learn-0.24.2 threadpoolctl-2.1.0 tqdm-4.61.0\n"
     ]
    },
    {
     "name": "stderr",
     "output_type": "stream",
     "text": [
      "WARNING: Ignoring invalid distribution -illow (c:\\users\\ampad\\appdata\\roaming\\python\\python36\\site-packages)\n",
      "WARNING: Ignoring invalid distribution -rotobuf (c:\\users\\ampad\\anaconda3\\envs\\od\\lib\\site-packages)\n",
      "WARNING: Ignoring invalid distribution -atplotlib (c:\\users\\ampad\\anaconda3\\envs\\od\\lib\\site-packages)\n",
      "WARNING: Ignoring invalid distribution -illow (c:\\users\\ampad\\appdata\\roaming\\python\\python36\\site-packages)\n",
      "WARNING: Ignoring invalid distribution -rotobuf (c:\\users\\ampad\\anaconda3\\envs\\od\\lib\\site-packages)\n",
      "WARNING: Ignoring invalid distribution -atplotlib (c:\\users\\ampad\\anaconda3\\envs\\od\\lib\\site-packages)\n",
      "WARNING: Ignoring invalid distribution -illow (c:\\users\\ampad\\appdata\\roaming\\python\\python36\\site-packages)\n",
      "WARNING: Ignoring invalid distribution -rotobuf (c:\\users\\ampad\\anaconda3\\envs\\od\\lib\\site-packages)\n",
      "WARNING: Ignoring invalid distribution -atplotlib (c:\\users\\ampad\\anaconda3\\envs\\od\\lib\\site-packages)\n",
      "WARNING: Ignoring invalid distribution -rotobuf (c:\\users\\ampad\\anaconda3\\envs\\od\\lib\\site-packages)\n",
      "WARNING: Ignoring invalid distribution -atplotlib (c:\\users\\ampad\\anaconda3\\envs\\od\\lib\\site-packages)\n",
      "WARNING: Ignoring invalid distribution -rotobuf (c:\\users\\ampad\\anaconda3\\envs\\od\\lib\\site-packages)\n",
      "WARNING: Ignoring invalid distribution -atplotlib (c:\\users\\ampad\\anaconda3\\envs\\od\\lib\\site-packages)\n",
      "WARNING: Ignoring invalid distribution -rotobuf (c:\\users\\ampad\\anaconda3\\envs\\od\\lib\\site-packages)\n",
      "WARNING: Ignoring invalid distribution -atplotlib (c:\\users\\ampad\\anaconda3\\envs\\od\\lib\\site-packages)\n",
      "WARNING: Ignoring invalid distribution -rotobuf (c:\\users\\ampad\\anaconda3\\envs\\od\\lib\\site-packages)\n",
      "WARNING: Ignoring invalid distribution -atplotlib (c:\\users\\ampad\\anaconda3\\envs\\od\\lib\\site-packages)\n",
      "WARNING: Ignoring invalid distribution -rotobuf (c:\\users\\ampad\\anaconda3\\envs\\od\\lib\\site-packages)\n",
      "WARNING: Ignoring invalid distribution -atplotlib (c:\\users\\ampad\\anaconda3\\envs\\od\\lib\\site-packages)\n",
      "ERROR: pip's dependency resolver does not currently take into account all the packages that are installed. This behaviour is the source of the following dependency conflicts.\n",
      "tensorflow-datasets 4.3.0 requires importlib-resources, which is not installed.\n",
      "tensorflow-datasets 4.3.0 requires promise, which is not installed.\n",
      "tensorflow-datasets 4.3.0 requires tensorflow-metadata, which is not installed.\n",
      "kaggle 1.5.12 requires python-slugify, which is not installed.\n",
      "WARNING: Ignoring invalid distribution -illow (c:\\users\\ampad\\appdata\\roaming\\python\\python36\\site-packages)\n",
      "WARNING: Ignoring invalid distribution -rotobuf (c:\\users\\ampad\\anaconda3\\envs\\od\\lib\\site-packages)\n",
      "WARNING: Ignoring invalid distribution -atplotlib (c:\\users\\ampad\\anaconda3\\envs\\od\\lib\\site-packages)\n",
      "WARNING: Ignoring invalid distribution -illow (c:\\users\\ampad\\appdata\\roaming\\python\\python36\\site-packages)\n",
      "WARNING: Ignoring invalid distribution -rotobuf (c:\\users\\ampad\\anaconda3\\envs\\od\\lib\\site-packages)\n",
      "WARNING: Ignoring invalid distribution -atplotlib (c:\\users\\ampad\\anaconda3\\envs\\od\\lib\\site-packages)\n",
      "WARNING: Ignoring invalid distribution -illow (c:\\users\\ampad\\appdata\\roaming\\python\\python36\\site-packages)\n",
      "WARNING: Ignoring invalid distribution -rotobuf (c:\\users\\ampad\\anaconda3\\envs\\od\\lib\\site-packages)\n",
      "WARNING: Ignoring invalid distribution -atplotlib (c:\\users\\ampad\\anaconda3\\envs\\od\\lib\\site-packages)\n",
      "WARNING: You are using pip version 21.1.1; however, version 21.1.2 is available.\n",
      "You should consider upgrading via the 'c:\\users\\ampad\\anaconda3\\envs\\od\\python.exe -m pip install --upgrade pip' command.\n"
     ]
    }
   ],
   "source": [
    "#install libaries\n",
    "!pip install pytorch-tabnet"
   ]
  },
  {
   "cell_type": "code",
   "execution_count": 2,
   "metadata": {
    "colab": {
     "base_uri": "https://localhost:8080/"
    },
    "id": "MnVw0sIWy0id",
    "outputId": "0aef5d7d-bfa7-4846-dccf-6495786c4150"
   },
   "outputs": [
    {
     "name": "stdout",
     "output_type": "stream",
     "text": [
      "Collecting imbalanced-learn\n",
      "  Using cached imbalanced_learn-0.8.0-py3-none-any.whl (206 kB)\n",
      "Requirement already satisfied: scipy>=0.19.1 in c:\\users\\ampad\\anaconda3\\envs\\od\\lib\\site-packages (from imbalanced-learn) (1.5.2)\n",
      "Requirement already satisfied: numpy>=1.13.3 in c:\\users\\ampad\\anaconda3\\envs\\od\\lib\\site-packages (from imbalanced-learn) (1.19.2)\n",
      "Requirement already satisfied: joblib>=0.11 in c:\\users\\ampad\\anaconda3\\envs\\od\\lib\\site-packages (from imbalanced-learn) (1.0.1)\n",
      "Requirement already satisfied: scikit-learn>=0.24 in c:\\users\\ampad\\anaconda3\\envs\\od\\lib\\site-packages (from imbalanced-learn) (0.24.2)\n",
      "Requirement already satisfied: threadpoolctl>=2.0.0 in c:\\users\\ampad\\anaconda3\\envs\\od\\lib\\site-packages (from scikit-learn>=0.24->imbalanced-learn) (2.1.0)\n",
      "Installing collected packages: imbalanced-learn\n",
      "Successfully installed imbalanced-learn-0.8.0\n"
     ]
    },
    {
     "name": "stderr",
     "output_type": "stream",
     "text": [
      "WARNING: Ignoring invalid distribution -illow (c:\\users\\ampad\\appdata\\roaming\\python\\python36\\site-packages)\n",
      "WARNING: Ignoring invalid distribution -rotobuf (c:\\users\\ampad\\anaconda3\\envs\\od\\lib\\site-packages)\n",
      "WARNING: Ignoring invalid distribution -atplotlib (c:\\users\\ampad\\anaconda3\\envs\\od\\lib\\site-packages)\n",
      "WARNING: Ignoring invalid distribution -illow (c:\\users\\ampad\\appdata\\roaming\\python\\python36\\site-packages)\n",
      "WARNING: Ignoring invalid distribution -rotobuf (c:\\users\\ampad\\anaconda3\\envs\\od\\lib\\site-packages)\n",
      "WARNING: Ignoring invalid distribution -atplotlib (c:\\users\\ampad\\anaconda3\\envs\\od\\lib\\site-packages)\n",
      "WARNING: Ignoring invalid distribution -illow (c:\\users\\ampad\\appdata\\roaming\\python\\python36\\site-packages)\n",
      "WARNING: Ignoring invalid distribution -rotobuf (c:\\users\\ampad\\anaconda3\\envs\\od\\lib\\site-packages)\n",
      "WARNING: Ignoring invalid distribution -atplotlib (c:\\users\\ampad\\anaconda3\\envs\\od\\lib\\site-packages)\n",
      "WARNING: Ignoring invalid distribution -rotobuf (c:\\users\\ampad\\anaconda3\\envs\\od\\lib\\site-packages)\n",
      "WARNING: Ignoring invalid distribution -atplotlib (c:\\users\\ampad\\anaconda3\\envs\\od\\lib\\site-packages)\n",
      "WARNING: Ignoring invalid distribution -illow (c:\\users\\ampad\\appdata\\roaming\\python\\python36\\site-packages)\n",
      "WARNING: Ignoring invalid distribution -rotobuf (c:\\users\\ampad\\anaconda3\\envs\\od\\lib\\site-packages)\n",
      "WARNING: Ignoring invalid distribution -atplotlib (c:\\users\\ampad\\anaconda3\\envs\\od\\lib\\site-packages)\n",
      "WARNING: Ignoring invalid distribution -illow (c:\\users\\ampad\\appdata\\roaming\\python\\python36\\site-packages)\n",
      "WARNING: Ignoring invalid distribution -rotobuf (c:\\users\\ampad\\anaconda3\\envs\\od\\lib\\site-packages)\n",
      "WARNING: Ignoring invalid distribution -atplotlib (c:\\users\\ampad\\anaconda3\\envs\\od\\lib\\site-packages)\n",
      "WARNING: Ignoring invalid distribution -illow (c:\\users\\ampad\\appdata\\roaming\\python\\python36\\site-packages)\n",
      "WARNING: Ignoring invalid distribution -rotobuf (c:\\users\\ampad\\anaconda3\\envs\\od\\lib\\site-packages)\n",
      "WARNING: Ignoring invalid distribution -atplotlib (c:\\users\\ampad\\anaconda3\\envs\\od\\lib\\site-packages)\n",
      "WARNING: You are using pip version 21.1.1; however, version 21.1.2 is available.\n",
      "You should consider upgrading via the 'c:\\users\\ampad\\anaconda3\\envs\\od\\python.exe -m pip install --upgrade pip' command.\n"
     ]
    }
   ],
   "source": [
    "!pip install imbalanced-learn"
   ]
  },
  {
   "cell_type": "code",
   "execution_count": 7,
   "metadata": {
    "id": "7WVlG6LwY9hp"
   },
   "outputs": [],
   "source": [
    "#import neccesary libraries\n",
    "import pandas as pd\n",
    "import imblearn\n",
    "from sklearn.datasets import make_classification\n",
    "from imblearn.over_sampling import ADASYN\n",
    "from imblearn.under_sampling import RandomUnderSampler\n",
    "from collections import Counter\n",
    "from sklearn.model_selection import train_test_split\n",
    "from sklearn.linear_model import LogisticRegression\n",
    "from sklearn.ensemble import RandomForestClassifier\n",
    "from sklearn.metrics import confusion_matrix, ConfusionMatrixDisplay\n",
    "from sklearn.preprocessing import StandardScaler\n",
    "from sklearn.metrics import roc_auc_score, recall_score, f1_score, classification_report, accuracy_score,roc_curve, confusion_matrix\n",
    "pd.set_option('display.max_columns', None)"
   ]
  },
  {
   "cell_type": "code",
   "execution_count": 8,
   "metadata": {
    "colab": {
     "base_uri": "https://localhost:8080/",
     "height": 239
    },
    "id": "M8Rck7jCaEzj",
    "outputId": "91bc0fd7-18ba-412f-e830-a9dfd6f979da"
   },
   "outputs": [
    {
     "name": "stdout",
     "output_type": "stream",
     "text": [
      "(284807, 31)\n"
     ]
    },
    {
     "data": {
      "text/html": [
       "<div>\n",
       "<style scoped>\n",
       "    .dataframe tbody tr th:only-of-type {\n",
       "        vertical-align: middle;\n",
       "    }\n",
       "\n",
       "    .dataframe tbody tr th {\n",
       "        vertical-align: top;\n",
       "    }\n",
       "\n",
       "    .dataframe thead th {\n",
       "        text-align: right;\n",
       "    }\n",
       "</style>\n",
       "<table border=\"1\" class=\"dataframe\">\n",
       "  <thead>\n",
       "    <tr style=\"text-align: right;\">\n",
       "      <th></th>\n",
       "      <th>Time</th>\n",
       "      <th>V1</th>\n",
       "      <th>V2</th>\n",
       "      <th>V3</th>\n",
       "      <th>V4</th>\n",
       "      <th>V5</th>\n",
       "      <th>V6</th>\n",
       "      <th>V7</th>\n",
       "      <th>V8</th>\n",
       "      <th>V9</th>\n",
       "      <th>V10</th>\n",
       "      <th>V11</th>\n",
       "      <th>V12</th>\n",
       "      <th>V13</th>\n",
       "      <th>V14</th>\n",
       "      <th>V15</th>\n",
       "      <th>V16</th>\n",
       "      <th>V17</th>\n",
       "      <th>V18</th>\n",
       "      <th>V19</th>\n",
       "      <th>V20</th>\n",
       "      <th>V21</th>\n",
       "      <th>V22</th>\n",
       "      <th>V23</th>\n",
       "      <th>V24</th>\n",
       "      <th>V25</th>\n",
       "      <th>V26</th>\n",
       "      <th>V27</th>\n",
       "      <th>V28</th>\n",
       "      <th>Amount</th>\n",
       "      <th>Class</th>\n",
       "    </tr>\n",
       "  </thead>\n",
       "  <tbody>\n",
       "    <tr>\n",
       "      <th>0</th>\n",
       "      <td>0.0</td>\n",
       "      <td>-1.359807</td>\n",
       "      <td>-0.072781</td>\n",
       "      <td>2.536347</td>\n",
       "      <td>1.378155</td>\n",
       "      <td>-0.338321</td>\n",
       "      <td>0.462388</td>\n",
       "      <td>0.239599</td>\n",
       "      <td>0.098698</td>\n",
       "      <td>0.363787</td>\n",
       "      <td>0.090794</td>\n",
       "      <td>-0.551600</td>\n",
       "      <td>-0.617801</td>\n",
       "      <td>-0.991390</td>\n",
       "      <td>-0.311169</td>\n",
       "      <td>1.468177</td>\n",
       "      <td>-0.470401</td>\n",
       "      <td>0.207971</td>\n",
       "      <td>0.025791</td>\n",
       "      <td>0.403993</td>\n",
       "      <td>0.251412</td>\n",
       "      <td>-0.018307</td>\n",
       "      <td>0.277838</td>\n",
       "      <td>-0.110474</td>\n",
       "      <td>0.066928</td>\n",
       "      <td>0.128539</td>\n",
       "      <td>-0.189115</td>\n",
       "      <td>0.133558</td>\n",
       "      <td>-0.021053</td>\n",
       "      <td>149.62</td>\n",
       "      <td>0</td>\n",
       "    </tr>\n",
       "    <tr>\n",
       "      <th>1</th>\n",
       "      <td>0.0</td>\n",
       "      <td>1.191857</td>\n",
       "      <td>0.266151</td>\n",
       "      <td>0.166480</td>\n",
       "      <td>0.448154</td>\n",
       "      <td>0.060018</td>\n",
       "      <td>-0.082361</td>\n",
       "      <td>-0.078803</td>\n",
       "      <td>0.085102</td>\n",
       "      <td>-0.255425</td>\n",
       "      <td>-0.166974</td>\n",
       "      <td>1.612727</td>\n",
       "      <td>1.065235</td>\n",
       "      <td>0.489095</td>\n",
       "      <td>-0.143772</td>\n",
       "      <td>0.635558</td>\n",
       "      <td>0.463917</td>\n",
       "      <td>-0.114805</td>\n",
       "      <td>-0.183361</td>\n",
       "      <td>-0.145783</td>\n",
       "      <td>-0.069083</td>\n",
       "      <td>-0.225775</td>\n",
       "      <td>-0.638672</td>\n",
       "      <td>0.101288</td>\n",
       "      <td>-0.339846</td>\n",
       "      <td>0.167170</td>\n",
       "      <td>0.125895</td>\n",
       "      <td>-0.008983</td>\n",
       "      <td>0.014724</td>\n",
       "      <td>2.69</td>\n",
       "      <td>0</td>\n",
       "    </tr>\n",
       "    <tr>\n",
       "      <th>2</th>\n",
       "      <td>1.0</td>\n",
       "      <td>-1.358354</td>\n",
       "      <td>-1.340163</td>\n",
       "      <td>1.773209</td>\n",
       "      <td>0.379780</td>\n",
       "      <td>-0.503198</td>\n",
       "      <td>1.800499</td>\n",
       "      <td>0.791461</td>\n",
       "      <td>0.247676</td>\n",
       "      <td>-1.514654</td>\n",
       "      <td>0.207643</td>\n",
       "      <td>0.624501</td>\n",
       "      <td>0.066084</td>\n",
       "      <td>0.717293</td>\n",
       "      <td>-0.165946</td>\n",
       "      <td>2.345865</td>\n",
       "      <td>-2.890083</td>\n",
       "      <td>1.109969</td>\n",
       "      <td>-0.121359</td>\n",
       "      <td>-2.261857</td>\n",
       "      <td>0.524980</td>\n",
       "      <td>0.247998</td>\n",
       "      <td>0.771679</td>\n",
       "      <td>0.909412</td>\n",
       "      <td>-0.689281</td>\n",
       "      <td>-0.327642</td>\n",
       "      <td>-0.139097</td>\n",
       "      <td>-0.055353</td>\n",
       "      <td>-0.059752</td>\n",
       "      <td>378.66</td>\n",
       "      <td>0</td>\n",
       "    </tr>\n",
       "    <tr>\n",
       "      <th>3</th>\n",
       "      <td>1.0</td>\n",
       "      <td>-0.966272</td>\n",
       "      <td>-0.185226</td>\n",
       "      <td>1.792993</td>\n",
       "      <td>-0.863291</td>\n",
       "      <td>-0.010309</td>\n",
       "      <td>1.247203</td>\n",
       "      <td>0.237609</td>\n",
       "      <td>0.377436</td>\n",
       "      <td>-1.387024</td>\n",
       "      <td>-0.054952</td>\n",
       "      <td>-0.226487</td>\n",
       "      <td>0.178228</td>\n",
       "      <td>0.507757</td>\n",
       "      <td>-0.287924</td>\n",
       "      <td>-0.631418</td>\n",
       "      <td>-1.059647</td>\n",
       "      <td>-0.684093</td>\n",
       "      <td>1.965775</td>\n",
       "      <td>-1.232622</td>\n",
       "      <td>-0.208038</td>\n",
       "      <td>-0.108300</td>\n",
       "      <td>0.005274</td>\n",
       "      <td>-0.190321</td>\n",
       "      <td>-1.175575</td>\n",
       "      <td>0.647376</td>\n",
       "      <td>-0.221929</td>\n",
       "      <td>0.062723</td>\n",
       "      <td>0.061458</td>\n",
       "      <td>123.50</td>\n",
       "      <td>0</td>\n",
       "    </tr>\n",
       "    <tr>\n",
       "      <th>4</th>\n",
       "      <td>2.0</td>\n",
       "      <td>-1.158233</td>\n",
       "      <td>0.877737</td>\n",
       "      <td>1.548718</td>\n",
       "      <td>0.403034</td>\n",
       "      <td>-0.407193</td>\n",
       "      <td>0.095921</td>\n",
       "      <td>0.592941</td>\n",
       "      <td>-0.270533</td>\n",
       "      <td>0.817739</td>\n",
       "      <td>0.753074</td>\n",
       "      <td>-0.822843</td>\n",
       "      <td>0.538196</td>\n",
       "      <td>1.345852</td>\n",
       "      <td>-1.119670</td>\n",
       "      <td>0.175121</td>\n",
       "      <td>-0.451449</td>\n",
       "      <td>-0.237033</td>\n",
       "      <td>-0.038195</td>\n",
       "      <td>0.803487</td>\n",
       "      <td>0.408542</td>\n",
       "      <td>-0.009431</td>\n",
       "      <td>0.798278</td>\n",
       "      <td>-0.137458</td>\n",
       "      <td>0.141267</td>\n",
       "      <td>-0.206010</td>\n",
       "      <td>0.502292</td>\n",
       "      <td>0.219422</td>\n",
       "      <td>0.215153</td>\n",
       "      <td>69.99</td>\n",
       "      <td>0</td>\n",
       "    </tr>\n",
       "  </tbody>\n",
       "</table>\n",
       "</div>"
      ],
      "text/plain": [
       "   Time        V1        V2        V3        V4        V5        V6        V7  \\\n",
       "0   0.0 -1.359807 -0.072781  2.536347  1.378155 -0.338321  0.462388  0.239599   \n",
       "1   0.0  1.191857  0.266151  0.166480  0.448154  0.060018 -0.082361 -0.078803   \n",
       "2   1.0 -1.358354 -1.340163  1.773209  0.379780 -0.503198  1.800499  0.791461   \n",
       "3   1.0 -0.966272 -0.185226  1.792993 -0.863291 -0.010309  1.247203  0.237609   \n",
       "4   2.0 -1.158233  0.877737  1.548718  0.403034 -0.407193  0.095921  0.592941   \n",
       "\n",
       "         V8        V9       V10       V11       V12       V13       V14  \\\n",
       "0  0.098698  0.363787  0.090794 -0.551600 -0.617801 -0.991390 -0.311169   \n",
       "1  0.085102 -0.255425 -0.166974  1.612727  1.065235  0.489095 -0.143772   \n",
       "2  0.247676 -1.514654  0.207643  0.624501  0.066084  0.717293 -0.165946   \n",
       "3  0.377436 -1.387024 -0.054952 -0.226487  0.178228  0.507757 -0.287924   \n",
       "4 -0.270533  0.817739  0.753074 -0.822843  0.538196  1.345852 -1.119670   \n",
       "\n",
       "        V15       V16       V17       V18       V19       V20       V21  \\\n",
       "0  1.468177 -0.470401  0.207971  0.025791  0.403993  0.251412 -0.018307   \n",
       "1  0.635558  0.463917 -0.114805 -0.183361 -0.145783 -0.069083 -0.225775   \n",
       "2  2.345865 -2.890083  1.109969 -0.121359 -2.261857  0.524980  0.247998   \n",
       "3 -0.631418 -1.059647 -0.684093  1.965775 -1.232622 -0.208038 -0.108300   \n",
       "4  0.175121 -0.451449 -0.237033 -0.038195  0.803487  0.408542 -0.009431   \n",
       "\n",
       "        V22       V23       V24       V25       V26       V27       V28  \\\n",
       "0  0.277838 -0.110474  0.066928  0.128539 -0.189115  0.133558 -0.021053   \n",
       "1 -0.638672  0.101288 -0.339846  0.167170  0.125895 -0.008983  0.014724   \n",
       "2  0.771679  0.909412 -0.689281 -0.327642 -0.139097 -0.055353 -0.059752   \n",
       "3  0.005274 -0.190321 -1.175575  0.647376 -0.221929  0.062723  0.061458   \n",
       "4  0.798278 -0.137458  0.141267 -0.206010  0.502292  0.219422  0.215153   \n",
       "\n",
       "   Amount  Class  \n",
       "0  149.62      0  \n",
       "1    2.69      0  \n",
       "2  378.66      0  \n",
       "3  123.50      0  \n",
       "4   69.99      0  "
      ]
     },
     "execution_count": 8,
     "metadata": {},
     "output_type": "execute_result"
    }
   ],
   "source": [
    "#import dataset and inspect first 5 rows\n",
    "credit_card = pd.read_csv('creditcard.csv')\n",
    "print(credit_card.shape)\n",
    "credit_card.head()"
   ]
  },
  {
   "cell_type": "code",
   "execution_count": 9,
   "metadata": {
    "colab": {
     "base_uri": "https://localhost:8080/"
    },
    "id": "YW7LVam_dpd5",
    "outputId": "b0db58bb-b251-4b61-b2d6-bc9335f65f94"
   },
   "outputs": [
    {
     "data": {
      "text/plain": [
       "0    284315\n",
       "1       492\n",
       "Name: Class, dtype: int64"
      ]
     },
     "execution_count": 9,
     "metadata": {},
     "output_type": "execute_result"
    }
   ],
   "source": [
    "credit_card['Class'].value_counts()"
   ]
  },
  {
   "cell_type": "code",
   "execution_count": 10,
   "metadata": {},
   "outputs": [
    {
     "data": {
      "text/plain": [
       "0    0.998273\n",
       "1    0.001727\n",
       "Name: Class, dtype: float64"
      ]
     },
     "execution_count": 10,
     "metadata": {},
     "output_type": "execute_result"
    }
   ],
   "source": [
    "credit_card['Class'].value_counts()/len(credit_card['Class'])"
   ]
  },
  {
   "cell_type": "markdown",
   "metadata": {},
   "source": [
    "#### dataset very imbalanced, where there are 99.82% normal transcations, and only 0.1% fraudlent cases,  and needs to be fixed"
   ]
  },
  {
   "cell_type": "code",
   "execution_count": 11,
   "metadata": {
    "id": "T5UjYGvVdtGY"
   },
   "outputs": [],
   "source": [
    "X = credit_card.drop(columns='Class')\n",
    "y = credit_card['Class']"
   ]
  },
  {
   "cell_type": "code",
   "execution_count": 12,
   "metadata": {
    "colab": {
     "base_uri": "https://localhost:8080/"
    },
    "id": "5N4IijXdfJG2",
    "outputId": "741ab1af-2253-49a2-dbdd-7569e10371d3"
   },
   "outputs": [
    {
     "name": "stdout",
     "output_type": "stream",
     "text": [
      "Original dataset shape Counter({0: 284315, 1: 492})\n"
     ]
    }
   ],
   "source": [
    "print('Original dataset shape {}'.format(Counter(y)))"
   ]
  },
  {
   "cell_type": "code",
   "execution_count": 13,
   "metadata": {
    "colab": {
     "base_uri": "https://localhost:8080/"
    },
    "id": "17ujhVwLfKqV",
    "outputId": "c8eb6927-aa70-4895-ccaa-ade9932d0d86"
   },
   "outputs": [
    {
     "name": "stdout",
     "output_type": "stream",
     "text": [
      "Resampled dataset shape Counter({0: 284315, 1: 284298})\n"
     ]
    }
   ],
   "source": [
    "#adasyn to balance the dataset\n",
    "ada = ADASYN(random_state=0)\n",
    "X_res, y_res = ada.fit_resample(X, y)\n",
    "print('Resampled dataset shape {}'.format(Counter(y_res)))"
   ]
  },
  {
   "cell_type": "code",
   "execution_count": 14,
   "metadata": {
    "id": "Fc0AC51mfNGm"
   },
   "outputs": [],
   "source": [
    "#70-30% split\n",
    "X_train,X_test,y_train,y_test=train_test_split(X_res,y_res, test_size=0.3, random_state=0)"
   ]
  },
  {
   "cell_type": "code",
   "execution_count": 15,
   "metadata": {},
   "outputs": [],
   "source": [
    "#scale the data\n",
    "scaler = StandardScaler()\n",
    "X_train = scaler.fit_transform(X_train)\n",
    "X_test = scaler.transform(X_test)"
   ]
  },
  {
   "cell_type": "code",
   "execution_count": 16,
   "metadata": {
    "id": "40ZIXvowg5km"
   },
   "outputs": [
    {
     "name": "stderr",
     "output_type": "stream",
     "text": [
      "C:\\Users\\ampad\\anaconda3\\envs\\OD\\lib\\site-packages\\sklearn\\linear_model\\_logistic.py:765: ConvergenceWarning: lbfgs failed to converge (status=1):\n",
      "STOP: TOTAL NO. of ITERATIONS REACHED LIMIT.\n",
      "\n",
      "Increase the number of iterations (max_iter) or scale the data as shown in:\n",
      "    https://scikit-learn.org/stable/modules/preprocessing.html\n",
      "Please also refer to the documentation for alternative solver options:\n",
      "    https://scikit-learn.org/stable/modules/linear_model.html#logistic-regression\n",
      "  extra_warning_msg=_LOGISTIC_SOLVER_CONVERGENCE_MSG)\n"
     ]
    }
   ],
   "source": [
    "#use the logisitic regression classifier as baseline\n",
    "Lr = LogisticRegression()\n",
    "Lr.fit(X_train, y_train)\n",
    "Lr_pred = Lr.predict(X_test)"
   ]
  },
  {
   "cell_type": "code",
   "execution_count": 17,
   "metadata": {
    "colab": {
     "base_uri": "https://localhost:8080/"
    },
    "id": "_yz7k6nig7g1",
    "outputId": "3fc105ca-60f3-4624-e9aa-3465e139e869"
   },
   "outputs": [
    {
     "name": "stdout",
     "output_type": "stream",
     "text": [
      "Area under curve score for the logisitc regression model is 0.979339225486751\n",
      "Recall score for the logisitc regression model is 0.990261023730519\n",
      "F1 score score for the logisitc regression model is 0.9788982569154983\n",
      "Accuracy score for the logisitc regression model is 0.9791070674858134\n"
     ]
    }
   ],
   "source": [
    "print('Area under curve score for the logisitc regression model is',roc_auc_score(Lr_pred,y_test))\n",
    "print('Recall score for the logisitc regression model is',recall_score(Lr_pred,y_test))\n",
    "print('F1 score score for the logisitc regression model is',f1_score(Lr_pred,y_test))\n",
    "print('Accuracy score for the logisitc regression model is',accuracy_score(Lr_pred,y_test))"
   ]
  },
  {
   "cell_type": "code",
   "execution_count": 18,
   "metadata": {},
   "outputs": [],
   "source": [
    "Rf = RandomForestClassifier()\n",
    "Rf.fit(X_train, y_train)\n",
    "Rf_pred = Rf.predict(X_test)"
   ]
  },
  {
   "cell_type": "code",
   "execution_count": 19,
   "metadata": {},
   "outputs": [
    {
     "name": "stdout",
     "output_type": "stream",
     "text": [
      "Area under curve score for the Random Forest model is 0.9998946567565986\n",
      "Recall score for the Random Forest model is 0.9997893135131972\n",
      "F1 score score for the Random Forest model is 0.9998946456582305\n",
      "Accuracy score for the Random Forest model is 0.9998944801388172\n"
     ]
    }
   ],
   "source": [
    "print('Area under curve score for the Random Forest model is',roc_auc_score(Rf_pred,y_test))\n",
    "print('Recall score for the Random Forest model is',recall_score(Rf_pred,y_test))\n",
    "print('F1 score score for the Random Forest model is',f1_score(Rf_pred,y_test))\n",
    "print('Accuracy score for the Random Forest model is',accuracy_score(Rf_pred,y_test))"
   ]
  },
  {
   "cell_type": "code",
   "execution_count": null,
   "metadata": {},
   "outputs": [],
   "source": []
  },
  {
   "cell_type": "code",
   "execution_count": 20,
   "metadata": {
    "id": "ubcZgyuGhrwu"
   },
   "outputs": [],
   "source": [
    "from pytorch_tabnet.tab_model import TabNetClassifier, TabNetRegressor"
   ]
  },
  {
   "cell_type": "code",
   "execution_count": 21,
   "metadata": {
    "colab": {
     "base_uri": "https://localhost:8080/"
    },
    "id": "fGnUKHxOh_f9",
    "outputId": "05da28b5-783c-4888-abf2-78054605da40"
   },
   "outputs": [
    {
     "name": "stdout",
     "output_type": "stream",
     "text": [
      "Device used : cuda\n",
      "epoch 0  | loss: 0.0937  | val_0_auc: 0.99874 |  0:00:32s\n",
      "epoch 1  | loss: 0.04145 | val_0_auc: 0.99956 |  0:00:59s\n",
      "epoch 2  | loss: 0.02974 | val_0_auc: 0.99949 |  0:01:27s\n",
      "epoch 3  | loss: 0.02828 | val_0_auc: 0.99972 |  0:01:54s\n",
      "epoch 4  | loss: 0.02062 | val_0_auc: 0.99978 |  0:02:21s\n",
      "epoch 5  | loss: 0.01931 | val_0_auc: 0.99979 |  0:02:51s\n",
      "epoch 6  | loss: 0.01639 | val_0_auc: 0.99983 |  0:03:25s\n",
      "epoch 7  | loss: 0.01435 | val_0_auc: 0.99984 |  0:03:57s\n",
      "epoch 8  | loss: 0.01343 | val_0_auc: 0.99989 |  0:04:26s\n",
      "epoch 9  | loss: 0.01341 | val_0_auc: 0.9999  |  0:04:56s\n",
      "epoch 10 | loss: 0.01157 | val_0_auc: 0.99982 |  0:05:25s\n",
      "epoch 11 | loss: 0.01069 | val_0_auc: 0.99991 |  0:05:59s\n",
      "epoch 12 | loss: 0.01211 | val_0_auc: 0.99993 |  0:06:31s\n",
      "epoch 13 | loss: 0.00965 | val_0_auc: 0.9999  |  0:07:04s\n",
      "epoch 14 | loss: 0.00848 | val_0_auc: 0.99994 |  0:07:34s\n",
      "epoch 15 | loss: 0.00878 | val_0_auc: 0.99994 |  0:08:06s\n",
      "epoch 16 | loss: 0.00859 | val_0_auc: 0.99995 |  0:08:34s\n",
      "epoch 17 | loss: 0.00914 | val_0_auc: 0.99992 |  0:09:04s\n",
      "epoch 18 | loss: 0.00764 | val_0_auc: 0.99992 |  0:09:41s\n",
      "epoch 19 | loss: 0.00736 | val_0_auc: 0.99988 |  0:10:12s\n",
      "Stop training because you reached max_epochs = 20 with best_epoch = 16 and best_val_0_auc = 0.99995\n",
      "Best weights from best epoch are automatically used!\n"
     ]
    }
   ],
   "source": [
    "#train tabnet model with 20 epochs, and default hyperparameter tuning\n",
    "clf = TabNetClassifier()\n",
    "clf.fit(X_train, y_train,eval_set=[(X_test, y_test)],max_epochs=20,patience=20)\n",
    "tab_pred = clf.predict(X_test)"
   ]
  },
  {
   "cell_type": "code",
   "execution_count": 22,
   "metadata": {
    "id": "FS-sY-wMpkXB"
   },
   "outputs": [
    {
     "name": "stdout",
     "output_type": "stream",
     "text": [
      "roc_auc_score for TabNet:  0.9984742573173648\n"
     ]
    }
   ],
   "source": [
    "false_positive_rate1, true_positive_rate1, threshold1 = roc_curve(y_test, tab_pred)\n",
    "print('roc_auc_score for TabNet: ', roc_auc_score(y_test, tab_pred))"
   ]
  },
  {
   "cell_type": "code",
   "execution_count": 23,
   "metadata": {
    "id": "Pmk6nT1BqBfR"
   },
   "outputs": [
    {
     "name": "stdout",
     "output_type": "stream",
     "text": [
      "Area under curve score for the logisitc regression model is 0.9984796448126104\n",
      "Recall score for the logisitc regression model is 0.997418194137782\n",
      "F1 score score for the logisitc regression model is 0.9984796744164288\n",
      "Accuracy score for the logisitc regression model is 0.9984758242273601\n"
     ]
    }
   ],
   "source": [
    "#metrics to evaluate the tabnet model\n",
    "print('Area under curve score for the logisitc regression model is',roc_auc_score(tab_pred,y_test))\n",
    "print('Recall score for the logisitc regression model is',recall_score(tab_pred,y_test))\n",
    "print('F1 score score for the logisitc regression model is',f1_score(tab_pred,y_test))\n",
    "print('Accuracy score for the logisitc regression model is',accuracy_score(tab_pred,y_test))"
   ]
  },
  {
   "cell_type": "code",
   "execution_count": 24,
   "metadata": {
    "id": "E1E8HvEbp0gY"
   },
   "outputs": [
    {
     "name": "stdout",
     "output_type": "stream",
     "text": [
      "Area under curve for TabNet:  0.9984742573173648\n"
     ]
    },
    {
     "data": {
      "image/png": "[encoded data removed]",
      "text/plain": [
       "<Figure size 720x720 with 1 Axes>"
      ]
     },
     "metadata": {
      "needs_background": "light"
     },
     "output_type": "display_data"
    }
   ],
   "source": [
    "import matplotlib.pyplot as plt\n",
    "print('Area under curve for TabNet: ', roc_auc_score(y_test, tab_pred))\n",
    "plt.subplots(1, figsize=(10,10))\n",
    "plt.title('Receiver Operating Characteristic - TabNet')\n",
    "plt.plot(false_positive_rate1, true_positive_rate1)\n",
    "plt.plot([0, 1], ls=\"--\")\n",
    "plt.plot([0, 0], [1, 0] , c=\".7\"), plt.plot([1, 1] , c=\".7\")\n",
    "plt.ylabel('TPR(Recall')\n",
    "plt.xlabel('FPR(Precision)')\n",
    "plt.show()  "
   ]
  },
  {
   "cell_type": "code",
   "execution_count": 25,
   "metadata": {},
   "outputs": [
    {
     "data": {
      "text/plain": [
       "<sklearn.metrics._plot.confusion_matrix.ConfusionMatrixDisplay at 0x1c748d2d400>"
      ]
     },
     "execution_count": 25,
     "metadata": {},
     "output_type": "execute_result"
    },
    {
     "data": {
      "image/png": "[encoded data removed]",
      "text/plain": [
       "<Figure size 432x288 with 2 Axes>"
      ]
     },
     "metadata": {
      "needs_background": "light"
     },
     "output_type": "display_data"
    }
   ],
   "source": [
    "#confusion matrix \n",
    "cmd = confusion_matrix(y_test, tab_pred)\n",
    "cmd = ConfusionMatrixDisplay(cmd, display_labels=['Fraud','No Fraud'])\n",
    "cmd.plot()"
   ]
  },
  {
   "cell_type": "markdown",
   "metadata": {},
   "source": [
    "### The model does very well to distinguish between fraudulent activities and normal ones, with only 637 observations(model predicted that it was fraudulent, whiles it was a normal transaction) misclassified, which represents only 0.11%. "
   ]
  },
  {
   "cell_type": "code",
   "execution_count": 26,
   "metadata": {},
   "outputs": [
    {
     "name": "stdout",
     "output_type": "stream",
     "text": [
      "Area under curve score for the Tabnet model is 0.9984796448126104\n",
      "Recall score for the Tabnet regression model is 0.997418194137782\n",
      "F1 score score for the Tabnet regression model is 0.9984796744164288\n",
      "Accuracy score for the Tabnet regression model is 0.9984758242273601\n"
     ]
    }
   ],
   "source": [
    "print('Area under curve score for the Tabnet model is',roc_auc_score(tab_pred,y_test))\n",
    "print('Recall score for the Tabnet regression model is',recall_score(tab_pred,y_test))\n",
    "print('F1 score score for the Tabnet regression model is',f1_score(tab_pred,y_test))\n",
    "print('Accuracy score for the Tabnet regression model is',accuracy_score(tab_pred,y_test))"
   ]
  },
  {
   "cell_type": "code",
   "execution_count": 27,
   "metadata": {},
   "outputs": [
    {
     "name": "stdout",
     "output_type": "stream",
     "text": [
      "Area under curve score for the logisitc regression model is 0.979339225486751\n",
      "Recall score for the logisitc regression model is 0.990261023730519\n",
      "F1 score score for the logisitc regression model is 0.9788982569154983\n",
      "Accuracy score for the logisitc regression model is 0.9791070674858134\n"
     ]
    }
   ],
   "source": [
    "print('Area under curve score for the logisitc regression model is',roc_auc_score(Lr_pred,y_test))\n",
    "print('Recall score for the logisitc regression model is',recall_score(Lr_pred,y_test))\n",
    "print('F1 score score for the logisitc regression model is',f1_score(Lr_pred,y_test))\n",
    "print('Accuracy score for the logisitc regression model is',accuracy_score(Lr_pred,y_test))"
   ]
  },
  {
   "cell_type": "code",
   "execution_count": 28,
   "metadata": {},
   "outputs": [
    {
     "data": {
      "text/html": [
       "<div>\n",
       "<style scoped>\n",
       "    .dataframe tbody tr th:only-of-type {\n",
       "        vertical-align: middle;\n",
       "    }\n",
       "\n",
       "    .dataframe tbody tr th {\n",
       "        vertical-align: top;\n",
       "    }\n",
       "\n",
       "    .dataframe thead th {\n",
       "        text-align: right;\n",
       "    }\n",
       "</style>\n",
       "<table border=\"1\" class=\"dataframe\">\n",
       "  <thead>\n",
       "    <tr style=\"text-align: right;\">\n",
       "      <th></th>\n",
       "      <th>Model</th>\n",
       "      <th>F1_Score</th>\n",
       "    </tr>\n",
       "  </thead>\n",
       "  <tbody>\n",
       "    <tr>\n",
       "      <th>2</th>\n",
       "      <td>Random Forest</td>\n",
       "      <td>0.999895</td>\n",
       "    </tr>\n",
       "    <tr>\n",
       "      <th>1</th>\n",
       "      <td>TabNet</td>\n",
       "      <td>0.998480</td>\n",
       "    </tr>\n",
       "    <tr>\n",
       "      <th>0</th>\n",
       "      <td>Logistic Regression</td>\n",
       "      <td>0.978898</td>\n",
       "    </tr>\n",
       "  </tbody>\n",
       "</table>\n",
       "</div>"
      ],
      "text/plain": [
       "                 Model  F1_Score\n",
       "2        Random Forest  0.999895\n",
       "1               TabNet  0.998480\n",
       "0  Logistic Regression  0.978898"
      ]
     },
     "execution_count": 28,
     "metadata": {},
     "output_type": "execute_result"
    }
   ],
   "source": [
    "model_comp=pd.DataFrame({'Model':['Logistic Regression','TabNet', 'Random Forest'],\n",
    "             'F1_Score':[f1_score(Lr_pred,y_test),f1_score(tab_pred,y_test), f1_score(Rf_pred,y_test)]})\n",
    "model_comp.sort_values(by='F1_Score', ascending=False)"
   ]
  }
 ],
 "metadata": {
  "accelerator": "GPU",
  "colab": {
   "collapsed_sections": [],
   "name": "Untitled12.ipynb",
   "provenance": []
  },
  "kernelspec": {
   "display_name": "Python [conda env:OD] *",
   "language": "python",
   "name": "conda-env-OD-py"
  },
  "language_info": {
   "codemirror_mode": {
    "name": "ipython",
    "version": 3
   },
   "file_extension": ".py",
   "mimetype": "text/x-python",
   "name": "python",
   "nbconvert_exporter": "python",
   "pygments_lexer": "ipython3",
   "version": "3.6.13"
  }
 },
 "nbformat": 4,
 "nbformat_minor": 1
}
